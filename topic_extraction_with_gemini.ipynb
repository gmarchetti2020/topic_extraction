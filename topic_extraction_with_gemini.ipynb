{
  "nbformat": 4,
  "nbformat_minor": 0,
  "metadata": {
    "colab": {
      "provenance": [],
      "authorship_tag": "ABX9TyOrwsVC5+7I8FvHH2HMlR+7",
      "include_colab_link": true
    },
    "kernelspec": {
      "name": "python3",
      "display_name": "Python 3"
    },
    "language_info": {
      "name": "python"
    }
  },
  "cells": [
    {
      "cell_type": "markdown",
      "metadata": {
        "id": "view-in-github",
        "colab_type": "text"
      },
      "source": [
        "<a href=\"https://colab.research.google.com/github/gmarchetti2020/topic_extraction/blob/main/topic_extraction_with_gemini.ipynb\" target=\"_parent\"><img src=\"https://colab.research.google.com/assets/colab-badge.svg\" alt=\"Open In Colab\"/></a>"
      ]
    },
    {
      "cell_type": "code",
      "execution_count": 1,
      "metadata": {
        "id": "Cc37klgja8mT"
      },
      "outputs": [],
      "source": [
        "import sys\n",
        "\n",
        "# Additional authentication is required for Google Colab\n",
        "if \"google.colab\" in sys.modules:\n",
        "    # Authenticate user to Google Cloud\n",
        "    from google.colab import auth\n",
        "\n",
        "    auth.authenticate_user()\n",
        "\n",
        "PROJECT_ID = \"<<insert id>>\"  # @param {type:\"string\"}\n",
        "LOCATION = \"<<inser location>>\"  # @param {type:\"string\"}\n",
        "\n",
        "if \"google.colab\" in sys.modules:\n",
        "    # Define project information\n",
        "    PROJECT_ID = PROJECT_ID\n",
        "    LOCATION = LOCATION\n",
        "\n",
        "    # Initialize Vertex AI\n",
        "    import vertexai\n",
        "    vertexai.init(project=PROJECT_ID, location=LOCATION)"
      ]
    },
    {
      "cell_type": "code",
      "source": [
        "def get_topic_extraction_prompt(content):\n",
        "    prompt = f\"\"\"Label the main topic or topics in the following text: {content}\"\"\"\n",
        "    prompt = prompt + \"\"\"1. Identify and list the primary topic or category or provide a short description of the main subject matter of the text.\n",
        "      2. If there are subtopics or secondary themes mentioned in the text, list them as well. If the text discusses multiple topics, provide a list of these topics and describe their relevance.\n",
        "      3. Consider the context and tone of the text to determine the most appropriate topics. Take into account keywords, phrases, or specific terms that relate to the topics.\n",
        "      4. If any notable entities (people, places, brands, products, etc.) are mentioned in the text that play a role in the topics, mention them and their associations.\n",
        "      5. If the text suggests any actions, decisions, or recommendations related to the identified topics, provide a brief summary of these insights.\n",
        "\n",
        "      Ensure that your labeling is clear, concise, and reflects the most significant topics or categories found in the text.\n",
        "\n",
        "      Here's the output schema:\n",
        "\n",
        "      ```\n",
        "\n",
        "\n",
        "      {\n",
        "          \"Topic\": \"\",\n",
        "          \"Subtopics\": [\"\"],\n",
        "          \"Context\": \"\",\n",
        "          \"NotableEntities\": [],\n",
        "          \"Recommendations\": \"\"\n",
        "      }\n",
        "\n",
        "\n",
        "      ```\n",
        "\n",
        "      Do not respond with your own suggestions or recommendations or feedback.\"\"\"\n",
        "    return prompt\n"
      ],
      "metadata": {
        "id": "i3jznWwnbBUT"
      },
      "execution_count": 2,
      "outputs": []
    },
    {
      "cell_type": "code",
      "source": [
        "import vertexai\n",
        "from vertexai.preview.generative_models import GenerativeModel, Part\n",
        "\n",
        "def execute_prompt(prompt, max_output_tokens=8192):\n",
        "  model = GenerativeModel(\"gemini-pro\")\n",
        "  responses = model.generate_content(\n",
        "    prompt,\n",
        "    generation_config={\n",
        "        \"max_output_tokens\": max_output_tokens,\n",
        "        \"temperature\": 0,\n",
        "        \"top_p\": 1\n",
        "    },\n",
        "  stream=True,\n",
        "  )\n",
        "\n",
        "  final_response = []\n",
        "\n",
        "  for response in responses:\n",
        "      final_response.append(response.candidates[0].content.parts[0].text)\n",
        "\n",
        "  return \".\".join(final_response)"
      ],
      "metadata": {
        "id": "tEhqbtVRbN9F"
      },
      "execution_count": 3,
      "outputs": []
    },
    {
      "cell_type": "code",
      "source": [
        "import re\n",
        "import json\n",
        "\n",
        "def extract_json(input_string):\n",
        "    # Extract JSON within block ```\n",
        "\n",
        "\n",
        "    matches = re.findall(r'```(.*?)```', input_string, re.DOTALL)\n",
        "\n",
        "    if matches:\n",
        "        # Join the matches into a single string\n",
        "        json_content = ''.join(matches)\n",
        "\n",
        "        # Remove periods\n",
        "        json_content = re.sub(r'\\.', '', json_content)\n",
        "\n",
        "        return json_content\n",
        "    else:\n",
        "        print(\"No ``` block found.\")\n",
        "        return None"
      ],
      "metadata": {
        "id": "Uh3b4qyYbS0l"
      },
      "execution_count": 5,
      "outputs": []
    },
    {
      "cell_type": "code",
      "source": [
        "summary = \"\"\"The Odyssey, an epic poem attributed to Homer, tells the story of Odysseus, king of Ithaca, and his long journey home after the Trojan War. The story is divided into three parts:\n",
        "\n",
        "The Adventures of Telemachus: Odysseus' son, Telemachus, sets out to find news of his missing father. He travels to Pylos and Sparta, where he learns that Odysseus is alive but held captive by the nymph Calypso.\n",
        "\n",
        "The Wanderings of Odysseus: Odysseus recounts his ten years of wandering. He encounters various mythical creatures and gods, including the Cyclops Polyphemus, the sorceress Circe, and the Sire\n",
        "\n",
        "The Return of Odysseus: Odysseus finally returns to Ithaca, disguised as a beggar. He reveals his identity to his son and a few loyal servants, then, together, they kill the suitors who have been vying for Penelope's hand and squandering Odysseus' wealth.\n",
        "\n",
        "The Odyssey is not just an adventure story but also a tale of homecoming, loyalty, and perseverance. It explores themes of identity, temptation, and the power of cunning and intelligence. The poem also offers insights into ancient Greek culture, values, and beliefs.\n",
        "\"\"\""
      ],
      "metadata": {
        "id": "txxuTrvVcgD7"
      },
      "execution_count": 9,
      "outputs": []
    },
    {
      "cell_type": "code",
      "source": [
        "topics = []\n",
        "prompt = get_topic_extraction_prompt(summary)\n",
        "response = execute_prompt(prompt)\n",
        "extracted_json = extract_json(response)\n",
        "if extracted_json != None:\n",
        "   topics.append(extracted_json)"
      ],
      "metadata": {
        "id": "G_bEqypUbTwS"
      },
      "execution_count": 11,
      "outputs": []
    },
    {
      "cell_type": "code",
      "source": [
        "import json\n",
        "print(json.dumps(topics, indent=4))"
      ],
      "metadata": {
        "colab": {
          "base_uri": "https://localhost:8080/"
        },
        "id": "0Io77mcwdFt3",
        "outputId": "00dde488-da3c-45ef-de1a-da31b9a0cc4d"
      },
      "execution_count": 14,
      "outputs": [
        {
          "output_type": "stream",
          "name": "stdout",
          "text": [
            "[\n",
            "    \"json\\n{\\n  \\\"Topic\\\": \\\"The Odyssey\\\",\\n  \\\"Subtopics\\\": [\\n    \\\"Adventures of Telemachus\\\",\\n    \\\"Wanderings of Odysseus\\\",\\n    \\\"Return of Odysseus\\\",\\n    \\\"Themes of identity, temptation, and the power of cunning and intelligence\\\",\\n    \\\"Insights into ancient Greek culture, values, and beliefs\\\"\\n  ],\\n  \\\"Context\\\": \\\"Epic poem attributed to Homer\\\",\\n  \\\"NotableEntities\\\": [\\n    \\\"Odysseus\\\",\\n    \\\"Telemachus\\\",\\n    \\\"Calypso\\\",\\n    \\\"Cyclops Polyphemus\\\",\\n    \\\"Circe\\\",\\n    \\\"Sirens\\\",\\n    \\\"Penelope\\\"\\n  ],\\n  \\\"Recommendations\\\": \\\"None\\\"\\n}\\n\"\n",
            "]\n"
          ]
        }
      ]
    }
  ]
}